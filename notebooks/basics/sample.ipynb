{
 "cells": [
  {
   "cell_type": "code",
   "execution_count": 1,
   "id": "dbadbd56-2a70-4734-b325-03061c29dd61",
   "metadata": {},
   "outputs": [],
   "source": [
    "# 20250830"
   ]
  },
  {
   "cell_type": "code",
   "execution_count": null,
   "id": "bc4ddbec-ca21-4f67-920e-162b81526c4a",
   "metadata": {},
   "outputs": [],
   "source": []
  },
  {
   "cell_type": "code",
   "execution_count": 2,
   "id": "f80c05ba-a47b-4f4d-b042-39387140444d",
   "metadata": {},
   "outputs": [
    {
     "name": "stdout",
     "output_type": "stream",
     "text": [
      "Hello Wolrd\n"
     ]
    }
   ],
   "source": [
    "print(\"Hello Wolrd\")"
   ]
  },
  {
   "cell_type": "code",
   "execution_count": null,
   "id": "1a90ba84-ee42-4135-b535-091c99da705b",
   "metadata": {},
   "outputs": [],
   "source": []
  }
 ],
 "metadata": {
  "kernelspec": {
   "display_name": "Python 3 (ipykernel)",
   "language": "python",
   "name": "python3"
  },
  "language_info": {
   "codemirror_mode": {
    "name": "ipython",
    "version": 3
   },
   "file_extension": ".py",
   "mimetype": "text/x-python",
   "name": "python",
   "nbconvert_exporter": "python",
   "pygments_lexer": "ipython3",
   "version": "3.12.11"
  }
 },
 "nbformat": 4,
 "nbformat_minor": 5
}
